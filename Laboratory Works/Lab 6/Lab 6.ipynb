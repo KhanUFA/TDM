{
 "metadata": {
  "language_info": {
   "codemirror_mode": {
    "name": "ipython",
    "version": 3
   },
   "file_extension": ".py",
   "mimetype": "text/x-python",
   "name": "python",
   "nbconvert_exporter": "python",
   "pygments_lexer": "ipython3",
   "version": "3.8.3-final"
  },
  "orig_nbformat": 2,
  "kernelspec": {
   "name": "Python 3.8.3 64-bit ('base': conda)",
   "display_name": "Python 3.8.3 64-bit ('base': conda)",
   "metadata": {
    "interpreter": {
     "hash": "07efdcd4b820c98a756949507a4d29d7862823915ec7477944641bea022f4f62"
    }
   }
  }
 },
 "nbformat": 4,
 "nbformat_minor": 2,
 "cells": [
  {
   "cell_type": "code",
   "execution_count": null,
   "metadata": {},
   "outputs": [],
   "source": [
    "import pandas as pd"
   ]
  },
  {
   "source": [
    "## Задание 1\n",
    "Скачайте с сайта https://grouplens.org/datasets/movielens/ датасет любого размера. Определите какому фильму было выставлено больше всего оценок 5.0."
   ],
   "cell_type": "markdown",
   "metadata": {}
  },
  {
   "cell_type": "code",
   "execution_count": null,
   "metadata": {},
   "outputs": [],
   "source": [
    "ratings = pd.read_csv('ratings.csv')\n",
    "movies = pd.read_csv('movies.csv')"
   ]
  },
  {
   "cell_type": "code",
   "execution_count": null,
   "metadata": {},
   "outputs": [],
   "source": [
    "ratings.query('rating == {}'.format(5))['movieId'].value_counts().head(1)\n"
   ]
  },
  {
   "source": [
    "## Задание 2\n",
    "По данным файла power.csv посчитайте суммарное потребление стран Прибалтики (Латвия, Литва и Эстония) категорий 4, 12 и 21 за период с 2005 по 2010 года. Не учитывайте в расчетах отрицательные значения quantity."
   ],
   "cell_type": "markdown",
   "metadata": {}
  },
  {
   "cell_type": "code",
   "execution_count": null,
   "metadata": {},
   "outputs": [],
   "source": [
    "power = pd.read_csv('power.csv')\n",
    "power.head(3)"
   ]
  },
  {
   "cell_type": "code",
   "execution_count": null,
   "metadata": {},
   "outputs": [],
   "source": [
    "## НЕ РАБОТАЕТ\n",
    "#altics = power[ power.country in ['Latvia', 'Lithuania', 'Estonia'] ]\n",
    "#baltics.head()"
   ]
  },
  {
   "cell_type": "code",
   "execution_count": null,
   "metadata": {},
   "outputs": [],
   "source": [
    "baltics = power.query('country == [\"Latvia\", \"Lithuania\", \"Estonia\"] and category == [4, 12, 21] and year >= 2005 and year <= 2010 and quantity > 0')\n",
    "baltics.quantity.sum()"
   ]
  },
  {
   "source": [
    "## Задание 3\n",
    "Выберите страницу любого сайта с табличными данными. Импортируйте таблицы в pandas dataframe.\n",
    "Примеры страниц (необязательно брать именно эти):\n",
    "https://fortrader.org/quotes\n",
    "https://www.finanz.ru/valyuty/v-realnom-vremeni"
   ],
   "cell_type": "markdown",
   "metadata": {}
  },
  {
   "cell_type": "code",
   "execution_count": null,
   "metadata": {},
   "outputs": [],
   "source": [
    "page_url = 'https://www.finanz.ru/valyuty/v-realnom-vremeni'\n",
    "course = pd.read_html(page_url, attrs = {'class': 'quote_list'}, encoding='utf-8')\n",
    "course[:3]"
   ]
  },
  {
   "source": [
    "## Задание 4\n",
    "Напишите функцию, которая классифицирует фильмы из материалов занятия по следующим правилам:\n",
    "- оценка 2 и меньше - низкий рейтинг\n",
    "- оценка 4 и меньше - средний рейтинг\n",
    "- оценка 4.5 и 5 - высокий рейтинг\n",
    "\n",
    "Результат классификации запишите в столбец class"
   ],
   "cell_type": "markdown",
   "metadata": {}
  },
  {
   "cell_type": "code",
   "execution_count": 4,
   "metadata": {},
   "outputs": [],
   "source": [
    "def classifies(chtoto):\n",
    "        if chtoto <= 2:\n",
    "            return 'низкий рейтинг'\n",
    "        elif chtoto <= 4:\n",
    "            return 'средний рейтинг'\n",
    "        elif chtoto <= 4.5 or chtoto <= 5:\n",
    "            return 'высокий рейтинг'"
   ]
  },
  {
   "cell_type": "code",
   "execution_count": 5,
   "metadata": {},
   "outputs": [],
   "source": [
    "classifiedRating = ratings.merge(movies, on=[\"movieId\"], how='inner').pivot_table(index=['title','movieId'], values = 'rating', aggfunc='mean')"
   ]
  },
  {
   "cell_type": "code",
   "execution_count": 7,
   "metadata": {},
   "outputs": [
    {
     "output_type": "execute_result",
     "data": {
      "text/plain": "                                                              rating  \\\ntitle                                              movieId             \n&quot;BLOW THE NIGHT!&quot; Let&#39;s Spend the Night Togethe... 208297   3.000000   \n&quot;Great Performances&quot; Cats (1998)                   51372    2.896648   \n#1 Cheerleader Camp (2010)                         136604   2.111111   \n#Captured (2017)                                   183901   3.750000   \n#Female Pleasure (2018)                            195955   3.666667   \n\n                                                                      class  \ntitle                                              movieId                   \n&quot;BLOW THE NIGHT!&quot; Let&#39;s Spend the Night Togethe... 208297   средний рейтинг  \n&quot;Great Performances&quot; Cats (1998)                   51372    средний рейтинг  \n#1 Cheerleader Camp (2010)                         136604   средний рейтинг  \n#Captured (2017)                                   183901   средний рейтинг  \n#Female Pleasure (2018)                            195955   средний рейтинг  ",
      "text/html": "<div>\n<style scoped>\n    .dataframe tbody tr th:only-of-type {\n        vertical-align: middle;\n    }\n\n    .dataframe tbody tr th {\n        vertical-align: top;\n    }\n\n    .dataframe thead th {\n        text-align: right;\n    }\n</style>\n<table border=\"1\" class=\"dataframe\">\n  <thead>\n    <tr style=\"text-align: right;\">\n      <th></th>\n      <th></th>\n      <th>rating</th>\n      <th>class</th>\n    </tr>\n    <tr>\n      <th>title</th>\n      <th>movieId</th>\n      <th></th>\n      <th></th>\n    </tr>\n  </thead>\n  <tbody>\n    <tr>\n      <th>\"BLOW THE NIGHT!\" Let's Spend the Night Together (1983)</th>\n      <th>208297</th>\n      <td>3.000000</td>\n      <td>средний рейтинг</td>\n    </tr>\n    <tr>\n      <th>\"Great Performances\" Cats (1998)</th>\n      <th>51372</th>\n      <td>2.896648</td>\n      <td>средний рейтинг</td>\n    </tr>\n    <tr>\n      <th>#1 Cheerleader Camp (2010)</th>\n      <th>136604</th>\n      <td>2.111111</td>\n      <td>средний рейтинг</td>\n    </tr>\n    <tr>\n      <th>#Captured (2017)</th>\n      <th>183901</th>\n      <td>3.750000</td>\n      <td>средний рейтинг</td>\n    </tr>\n    <tr>\n      <th>#Female Pleasure (2018)</th>\n      <th>195955</th>\n      <td>3.666667</td>\n      <td>средний рейтинг</td>\n    </tr>\n  </tbody>\n</table>\n</div>"
     },
     "metadata": {},
     "execution_count": 7
    }
   ],
   "source": [
    "classifiedRating['class'] = classifiedRating['rating'].apply(classifies)\n",
    "classifiedRating.head()"
   ]
  },
  {
   "source": [
    "## Задание 5\n",
    "Используем файл keywords.csv.\n",
    "\n",
    "Необходимо написать гео-классификатор, который каждой строке сможет выставить географическую принадлежность определенному региону. Т. е. если поисковый запрос содержит название города региона, то в столбце ‘region’ пишется название этого региона. Если поисковый запрос не содержит названия города, то ставим ‘undefined’.\n",
    "\n",
    "Правила распределения по регионам Центр, Северо-Запад и Дальний Восток:\n",
    "\n",
    "geo_data = {\n",
    "'Центр': ['москва', 'тула', 'ярославль'],\n",
    "'Северо-Запад': ['петербург', 'псков', 'мурманск'],\n",
    "'Дальний Восток': ['владивосток', 'сахалин', 'хабаровск']\n",
    "}\n",
    "\n",
    "Результат классификации запишите в отдельный столбец region."
   ],
   "cell_type": "markdown",
   "metadata": {}
  },
  {
   "cell_type": "code",
   "execution_count": 8,
   "metadata": {},
   "outputs": [],
   "source": [
    "keywords = pd.read_csv('keywords.csv')\n",
    "keywords.head()\n",
    "\n",
    "geo_data = {\n",
    "    'Центр': ['москва', 'тула', 'ярославль'],\n",
    "    'Северо-Запад': ['петербург', 'псков', 'мурманск'],\n",
    "    'Дальний Восток': ['владивосток', 'сахалин', 'хабаровск']\n",
    "}"
   ]
  },
  {
   "cell_type": "code",
   "execution_count": 9,
   "metadata": {},
   "outputs": [
    {
     "output_type": "execute_result",
     "data": {
      "text/plain": "         keyword     shows     region\n0             вк  64292779  undefined\n1  одноклассники  63810309  undefined\n2          порно  41747114  undefined\n3           ютуб  39995567  undefined\n4      вконтакте  21014195  undefined",
      "text/html": "<div>\n<style scoped>\n    .dataframe tbody tr th:only-of-type {\n        vertical-align: middle;\n    }\n\n    .dataframe tbody tr th {\n        vertical-align: top;\n    }\n\n    .dataframe thead th {\n        text-align: right;\n    }\n</style>\n<table border=\"1\" class=\"dataframe\">\n  <thead>\n    <tr style=\"text-align: right;\">\n      <th></th>\n      <th>keyword</th>\n      <th>shows</th>\n      <th>region</th>\n    </tr>\n  </thead>\n  <tbody>\n    <tr>\n      <th>0</th>\n      <td>вк</td>\n      <td>64292779</td>\n      <td>undefined</td>\n    </tr>\n    <tr>\n      <th>1</th>\n      <td>одноклассники</td>\n      <td>63810309</td>\n      <td>undefined</td>\n    </tr>\n    <tr>\n      <th>2</th>\n      <td>порно</td>\n      <td>41747114</td>\n      <td>undefined</td>\n    </tr>\n    <tr>\n      <th>3</th>\n      <td>ютуб</td>\n      <td>39995567</td>\n      <td>undefined</td>\n    </tr>\n    <tr>\n      <th>4</th>\n      <td>вконтакте</td>\n      <td>21014195</td>\n      <td>undefined</td>\n    </tr>\n  </tbody>\n</table>\n</div>"
     },
     "metadata": {},
     "execution_count": 9
    }
   ],
   "source": [
    "temp = {}\n",
    "\n",
    "for region in geo_data:\n",
    "    cityRegion = geo_data[region]\n",
    "    temp.update({key:value for key,value in zip(cityRegion, [region for r in cityRegion])})\n",
    "\n",
    "keywords['region'] = keywords['keyword'].map(temp)\n",
    "keywords['region'] = keywords['region'].fillna('undefined')\n",
    "keywords.head()"
   ]
  },
  {
   "source": [
    "## Задание 6\n",
    "Есть мнение, что “раньше снимали настоящее кино, не то что сейчас”. Ваша задача проверить это утверждение, используя файлы с рейтингами фильмов из прошлого домашнего занятия (файл ratings.csv из базы https://grouplens.org/datasets/movielens). Т. е. проверить верно ли, что с ростом года выпуска фильма его средний рейтинг становится ниже.\n",
    "\n",
    "При этом мы не будем затрагивать субьективные факторы выставления этих рейтингов, а пройдемся по следующему алгоритму:\n",
    "\n",
    "В переменную years запишите список из всех годов с 1950 по 2010.\n",
    "\n",
    "Напишите функцию production_year, которая каждой строке из названия фильма выставляет год выпуска. Не все названия фильмов содержат год выпуска в одинаковом формате, поэтому используйте следующий алгоритм:\n",
    "\n",
    "для каждой строки пройдите по всем годам списка years\n",
    "если номер года присутствует в названии фильма, то функция возвращает этот год как год выпуска\n",
    "если ни один из номеров года списка years не встретился в названии фильма, то возвращается 1900 год\n",
    "Запишите год выпуска фильма по алгоритму пункта 2 в новый столбец ‘year’\n",
    "\n",
    "Посчитайте средний рейтинг всех фильмов для каждого значения столбца ‘year’ и отсортируйте результат по убыванию рейтинга"
   ],
   "cell_type": "markdown",
   "metadata": {}
  },
  {
   "cell_type": "code",
   "execution_count": 10,
   "metadata": {},
   "outputs": [
    {
     "output_type": "execute_result",
     "data": {
      "text/plain": "   userId  movieId  rating   timestamp                title  \\\n0       1      296     5.0  1147880044  Pulp Fiction (1994)   \n1       3      296     5.0  1439474476  Pulp Fiction (1994)   \n2       4      296     4.0  1573938898  Pulp Fiction (1994)   \n3       5      296     4.0   830786155  Pulp Fiction (1994)   \n4       7      296     4.0   835444730  Pulp Fiction (1994)   \n\n                        genres  \n0  Comedy|Crime|Drama|Thriller  \n1  Comedy|Crime|Drama|Thriller  \n2  Comedy|Crime|Drama|Thriller  \n3  Comedy|Crime|Drama|Thriller  \n4  Comedy|Crime|Drama|Thriller  ",
      "text/html": "<div>\n<style scoped>\n    .dataframe tbody tr th:only-of-type {\n        vertical-align: middle;\n    }\n\n    .dataframe tbody tr th {\n        vertical-align: top;\n    }\n\n    .dataframe thead th {\n        text-align: right;\n    }\n</style>\n<table border=\"1\" class=\"dataframe\">\n  <thead>\n    <tr style=\"text-align: right;\">\n      <th></th>\n      <th>userId</th>\n      <th>movieId</th>\n      <th>rating</th>\n      <th>timestamp</th>\n      <th>title</th>\n      <th>genres</th>\n    </tr>\n  </thead>\n  <tbody>\n    <tr>\n      <th>0</th>\n      <td>1</td>\n      <td>296</td>\n      <td>5.0</td>\n      <td>1147880044</td>\n      <td>Pulp Fiction (1994)</td>\n      <td>Comedy|Crime|Drama|Thriller</td>\n    </tr>\n    <tr>\n      <th>1</th>\n      <td>3</td>\n      <td>296</td>\n      <td>5.0</td>\n      <td>1439474476</td>\n      <td>Pulp Fiction (1994)</td>\n      <td>Comedy|Crime|Drama|Thriller</td>\n    </tr>\n    <tr>\n      <th>2</th>\n      <td>4</td>\n      <td>296</td>\n      <td>4.0</td>\n      <td>1573938898</td>\n      <td>Pulp Fiction (1994)</td>\n      <td>Comedy|Crime|Drama|Thriller</td>\n    </tr>\n    <tr>\n      <th>3</th>\n      <td>5</td>\n      <td>296</td>\n      <td>4.0</td>\n      <td>830786155</td>\n      <td>Pulp Fiction (1994)</td>\n      <td>Comedy|Crime|Drama|Thriller</td>\n    </tr>\n    <tr>\n      <th>4</th>\n      <td>7</td>\n      <td>296</td>\n      <td>4.0</td>\n      <td>835444730</td>\n      <td>Pulp Fiction (1994)</td>\n      <td>Comedy|Crime|Drama|Thriller</td>\n    </tr>\n  </tbody>\n</table>\n</div>"
     },
     "metadata": {},
     "execution_count": 10
    }
   ],
   "source": [
    "total = ratings.merge(movies, on=[\"movieId\"], how='inner')\n",
    "total.head()"
   ]
  },
  {
   "cell_type": "code",
   "execution_count": 14,
   "metadata": {},
   "outputs": [],
   "source": [
    "def production_year(title):\n",
    "    for year in years:\n",
    "        if str(year) in title:\n",
    "            return year\n",
    "    return 1900"
   ]
  },
  {
   "cell_type": "code",
   "execution_count": 12,
   "metadata": {},
   "outputs": [],
   "source": [
    "years = []\n",
    "for year in range(1950,2010):\n",
    "    years.append(year)"
   ]
  },
  {
   "cell_type": "code",
   "execution_count": 16,
   "metadata": {},
   "outputs": [
    {
     "output_type": "execute_result",
     "data": {
      "text/plain": "   userId  movieId  rating   timestamp                title  \\\n0       1      296     5.0  1147880044  Pulp Fiction (1994)   \n1       3      296     5.0  1439474476  Pulp Fiction (1994)   \n2       4      296     4.0  1573938898  Pulp Fiction (1994)   \n3       5      296     4.0   830786155  Pulp Fiction (1994)   \n4       7      296     4.0   835444730  Pulp Fiction (1994)   \n\n                        genres  year  \n0  Comedy|Crime|Drama|Thriller  1994  \n1  Comedy|Crime|Drama|Thriller  1994  \n2  Comedy|Crime|Drama|Thriller  1994  \n3  Comedy|Crime|Drama|Thriller  1994  \n4  Comedy|Crime|Drama|Thriller  1994  ",
      "text/html": "<div>\n<style scoped>\n    .dataframe tbody tr th:only-of-type {\n        vertical-align: middle;\n    }\n\n    .dataframe tbody tr th {\n        vertical-align: top;\n    }\n\n    .dataframe thead th {\n        text-align: right;\n    }\n</style>\n<table border=\"1\" class=\"dataframe\">\n  <thead>\n    <tr style=\"text-align: right;\">\n      <th></th>\n      <th>userId</th>\n      <th>movieId</th>\n      <th>rating</th>\n      <th>timestamp</th>\n      <th>title</th>\n      <th>genres</th>\n      <th>year</th>\n    </tr>\n  </thead>\n  <tbody>\n    <tr>\n      <th>0</th>\n      <td>1</td>\n      <td>296</td>\n      <td>5.0</td>\n      <td>1147880044</td>\n      <td>Pulp Fiction (1994)</td>\n      <td>Comedy|Crime|Drama|Thriller</td>\n      <td>1994</td>\n    </tr>\n    <tr>\n      <th>1</th>\n      <td>3</td>\n      <td>296</td>\n      <td>5.0</td>\n      <td>1439474476</td>\n      <td>Pulp Fiction (1994)</td>\n      <td>Comedy|Crime|Drama|Thriller</td>\n      <td>1994</td>\n    </tr>\n    <tr>\n      <th>2</th>\n      <td>4</td>\n      <td>296</td>\n      <td>4.0</td>\n      <td>1573938898</td>\n      <td>Pulp Fiction (1994)</td>\n      <td>Comedy|Crime|Drama|Thriller</td>\n      <td>1994</td>\n    </tr>\n    <tr>\n      <th>3</th>\n      <td>5</td>\n      <td>296</td>\n      <td>4.0</td>\n      <td>830786155</td>\n      <td>Pulp Fiction (1994)</td>\n      <td>Comedy|Crime|Drama|Thriller</td>\n      <td>1994</td>\n    </tr>\n    <tr>\n      <th>4</th>\n      <td>7</td>\n      <td>296</td>\n      <td>4.0</td>\n      <td>835444730</td>\n      <td>Pulp Fiction (1994)</td>\n      <td>Comedy|Crime|Drama|Thriller</td>\n      <td>1994</td>\n    </tr>\n  </tbody>\n</table>\n</div>"
     },
     "metadata": {},
     "execution_count": 16
    }
   ],
   "source": [
    "total['year'] = total['title'].apply(production_year)\n",
    "total.head()"
   ]
  },
  {
   "cell_type": "code",
   "execution_count": 17,
   "metadata": {},
   "outputs": [
    {
     "output_type": "execute_result",
     "data": {
      "text/plain": "        rating\nyear          \n1957  3.999492\n1954  3.985693\n1972  3.956477\n1962  3.929445\n1952  3.895315",
      "text/html": "<div>\n<style scoped>\n    .dataframe tbody tr th:only-of-type {\n        vertical-align: middle;\n    }\n\n    .dataframe tbody tr th {\n        vertical-align: top;\n    }\n\n    .dataframe thead th {\n        text-align: right;\n    }\n</style>\n<table border=\"1\" class=\"dataframe\">\n  <thead>\n    <tr style=\"text-align: right;\">\n      <th></th>\n      <th>rating</th>\n    </tr>\n    <tr>\n      <th>year</th>\n      <th></th>\n    </tr>\n  </thead>\n  <tbody>\n    <tr>\n      <th>1957</th>\n      <td>3.999492</td>\n    </tr>\n    <tr>\n      <th>1954</th>\n      <td>3.985693</td>\n    </tr>\n    <tr>\n      <th>1972</th>\n      <td>3.956477</td>\n    </tr>\n    <tr>\n      <th>1962</th>\n      <td>3.929445</td>\n    </tr>\n    <tr>\n      <th>1952</th>\n      <td>3.895315</td>\n    </tr>\n  </tbody>\n</table>\n</div>"
     },
     "metadata": {},
     "execution_count": 17
    }
   ],
   "source": [
    "totalBig = total.pivot_table(index=['year'], values = 'rating', aggfunc='mean')\n",
    "totalSort = totalBig.sort_values(by = ['rating'], ascending = False)\n",
    "totalSort.head()"
   ]
  }
 ]
}