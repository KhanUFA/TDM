{
 "metadata": {
  "language_info": {
   "codemirror_mode": {
    "name": "ipython",
    "version": 3
   },
   "file_extension": ".py",
   "mimetype": "text/x-python",
   "name": "python",
   "nbconvert_exporter": "python",
   "pygments_lexer": "ipython3",
   "version": "3.8.3-final"
  },
  "orig_nbformat": 2,
  "kernelspec": {
   "name": "Python 3.8.3 64-bit ('base': conda)",
   "display_name": "Python 3.8.3 64-bit ('base': conda)",
   "metadata": {
    "interpreter": {
     "hash": "07efdcd4b820c98a756949507a4d29d7862823915ec7477944641bea022f4f62"
    }
   }
  }
 },
 "nbformat": 4,
 "nbformat_minor": 2,
 "cells": [
  {
   "source": [
    "## Задание\n",
    "Будем парсить страницу со свежеми новостям на habr.com/ru/all/.\n",
    "\n",
    "Вам необходимо собирать только те статьи, в которых встречается хотя бы одно требуемое ключевое слово. Эти слова определяем в начале кода в переменной, например:\n",
    "\n",
    "KEYWORDS = \\['python', 'парсинг'\\]\n",
    "\n",
    "Поиск вести по всей доступной preview-информации (это информация, доступная непосредственно с текущей страницы).\n",
    "\n",
    "В итоге должен формироваться датафрейм вида: <дата> - <заголовок> - <ссылка>\n",
    "\n",
    "Дополнительная часть (необязательная)\n",
    "Улучшить скрипт так, чтобы он анализировал не только preview-информацию статьи, но и весь текст статьи целиком.\n",
    "\n",
    "Для этого потребуется получать страницы статей и искать по тексту внутри этой страницы.\n",
    "\n",
    "Итоговый датафрейм формировать со столбцами: <дата> - <заголовок> - <ссылка> - <текст_статьи>"
   ],
   "cell_type": "markdown",
   "metadata": {}
  },
  {
   "cell_type": "code",
   "execution_count": 1,
   "metadata": {},
   "outputs": [],
   "source": [
    "import requests\n",
    "import pandas\n",
    "from bs4 import BeautifulSoup\n",
    "\n",
    "KEYWORDS = ['python', 'парсинг']\n",
    "url = 'https://habr.com/ru/all/'"
   ]
  },
  {
   "cell_type": "code",
   "execution_count": 2,
   "metadata": {},
   "outputs": [],
   "source": [
    "def checkTag(tags):\n",
    "    for keyword in KEYWORDS:\n",
    "        if(keyword.lower() not in tags and keyword != KEYWORDS[-1]):\n",
    "            return False\n",
    "    return True"
   ]
  },
  {
   "cell_type": "code",
   "execution_count": 3,
   "metadata": {},
   "outputs": [
    {
     "output_type": "stream",
     "name": "stdout",
     "text": [
      "Something Wrong\n"
     ]
    },
    {
     "output_type": "execute_result",
     "data": {
      "text/plain": [
       "Empty DataFrame\n",
       "Columns: []\n",
       "Index: []"
      ],
      "text/html": "<div>\n<style scoped>\n    .dataframe tbody tr th:only-of-type {\n        vertical-align: middle;\n    }\n\n    .dataframe tbody tr th {\n        vertical-align: top;\n    }\n\n    .dataframe thead th {\n        text-align: right;\n    }\n</style>\n<table border=\"1\" class=\"dataframe\">\n  <thead>\n    <tr style=\"text-align: right;\">\n      <th></th>\n    </tr>\n  </thead>\n  <tbody>\n  </tbody>\n</table>\n</div>"
     },
     "metadata": {},
     "execution_count": 3
    }
   ],
   "source": [
    "import time\n",
    "def getAllInfo(url, query, pages):\n",
    "    habrPosts = pandas.DataFrame()\n",
    "    \n",
    "    for i in range(pages):\n",
    "        page = 'page' + str(i + 1)\n",
    "        hubrPage = requests.get(url+page)\n",
    "        if (hubrPage.reason != 200):\n",
    "            print('Something Wrong')\n",
    "            break\n",
    "        #time.sleep(0.3) Ругается UnboundLocalError: local variable 'time' referenced before assignment\n",
    "        soup = BeautifulSoup(hubrPage.text, 'html.parser')\n",
    "        blogs = soup.find_all('article', class_='post post_preview')\n",
    "        for blog in blogs:\n",
    "            tags = []\n",
    "            for listTags in blog.find('ul').find_all('a'):\n",
    "                tags.append(listTags.text.lower())\n",
    "\n",
    "            if(not checkTag(tags)):\n",
    "                continue\n",
    "\n",
    "            title = blog.find('a', class_='post__title_link').text\n",
    "            link = blog.find('a').get('href')\n",
    "            text = blog.find('div', class_='post__text post__text-html post__text_v1').text\n",
    "            time = blog.find('span', class_='post__time').text\n",
    "            info = [time, title, text, link]\n",
    "            row = {'time': info[0], 'title': info[1], 'text': info[2], 'link': info[3]}\n",
    "            habrPosts = pandas.concat([habrPosts, pandas.DataFrame([row])]) \n",
    "                 \n",
    "    return habrPosts\n",
    "\n",
    "all_links = getAllInfo(url, KEYWORDS, 1)\n",
    "all_links"
   ]
  }
 ]
}